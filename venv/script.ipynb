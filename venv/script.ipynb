{
 "cells": [
  {
   "cell_type": "code",
   "execution_count": 1,
   "id": "03a78ab2",
   "metadata": {},
   "outputs": [],
   "source": [
    "import numpy as np\n",
    "import pandas as pd\n",
    "from sklearn.ensemble import RandomForestClassifier\n",
    "import pickle\n",
    "import bz2\n",
    "data=pd.read_excel(\"Sleepsterdataset.xlsx\")\n",
    "data['age']=data['age'].apply(np.ceil).astype(int)\n",
    "data['weight']=data['weight'].apply(np.ceil).astype(int)\n",
    "x=data.iloc[:,0:5]\n",
    "y=data.iloc[:,-1]\n",
    "model=RandomForestClassifier()\n",
    "model.fit(x,y)\n",
    "def compressed_pickle(title, data):\n",
    "\n",
    "    with bz2.BZ2File(title + '.pbz2', 'w') as f:\n",
    "        pickle.dump(data, f)\n",
    "compressed_pickle('filename', model)"
   ]
  },
  {
   "cell_type": "code",
   "execution_count": null,
   "id": "a77c82fb",
   "metadata": {},
   "outputs": [],
   "source": []
  }
 ],
 "metadata": {
  "kernelspec": {
   "display_name": "Python 3 (ipykernel)",
   "language": "python",
   "name": "python3"
  },
  "language_info": {
   "codemirror_mode": {
    "name": "ipython",
    "version": 3
   },
   "file_extension": ".py",
   "mimetype": "text/x-python",
   "name": "python",
   "nbconvert_exporter": "python",
   "pygments_lexer": "ipython3",
   "version": "3.9.12"
  }
 },
 "nbformat": 4,
 "nbformat_minor": 5
}
